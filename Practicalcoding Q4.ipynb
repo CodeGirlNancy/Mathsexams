{
 "cells": [
  {
   "cell_type": "code",
   "execution_count": 1,
   "metadata": {},
   "outputs": [
    {
     "name": "stdout",
     "output_type": "stream",
     "text": [
      "[[1.  0.2 0.5]\n",
      " [0.2 1.  0.8]\n",
      " [0.5 0.8 1. ]]\n"
     ]
    }
   ],
   "source": [
    "#computing an inverse of the matrix(Transpose)\n",
    "import numpy as np\n",
    "\n",
    "matrix = np.array([[1, 0.2, 0.5],[0.2, 1, 0.8],[0.5,0.8,1]])\n",
    "matrix_transpose = np.transpose(matrix)\n",
    "\n",
    "print(matrix_transpose)"
   ]
  },
  {
   "cell_type": "code",
   "execution_count": 2,
   "metadata": {},
   "outputs": [
    {
     "name": "stdout",
     "output_type": "stream",
     "text": [
      "[[ 1.56521739  0.86956522 -1.47826087]\n",
      " [ 0.86956522  3.26086957 -3.04347826]\n",
      " [-1.47826087 -3.04347826  4.17391304]]\n"
     ]
    }
   ],
   "source": [
    "#computing an inverse of the matrix (transpose)\n",
    "import numpy as np\n",
    "\n",
    "matrix_transpose = np.array([[1, 0.2,0.5], [0.2, 1,0.8],[0.5,0.8,1]])\n",
    "\n",
    "inverse_matrix = np.linalg.inv(matrix_transpose)\n",
    "\n",
    "print(inverse_matrix)"
   ]
  },
  {
   "cell_type": "code",
   "execution_count": 1,
   "metadata": {},
   "outputs": [
    {
     "name": "stdout",
     "output_type": "stream",
     "text": [
      "Determinant: 0.2299999999999999\n"
     ]
    }
   ],
   "source": [
    "#computing the determinant of the matrix\n",
    "import numpy as np\n",
    "matrix = np.array([[1, 0.2, 0.5], [0.2, 1, 0.8], [0.5, 0.8, 1]])\n",
    "# Calculate the determinant\n",
    "determinant = np.linalg.det(matrix)\n",
    "print(\"Determinant:\", determinant)"
   ]
  },
  {
   "cell_type": "code",
   "execution_count": 1,
   "metadata": {},
   "outputs": [
    {
     "name": "stdout",
     "output_type": "stream",
     "text": [
      "U:\n",
      " [[-0.43721717  0.85359707 -0.28321933]\n",
      " [-0.59931898 -0.51133314 -0.61591816]\n",
      " [-0.67056536 -0.09955128  0.73514055]]\n",
      "Singular values: [2.04100779 0.82188052 0.13711169]\n",
      "V:\n",
      " [[-0.43721717 -0.59931898 -0.67056536]\n",
      " [ 0.85359707 -0.51133314 -0.09955128]\n",
      " [-0.28321933 -0.61591816  0.73514055]]\n"
     ]
    }
   ],
   "source": [
    "#Decompose the matrix\n",
    "import numpy as np\n",
    "matrix = np.array([[1, 0.2, 0.5],[0.2, 1, 0.8],[0.5,0.8,1]])\n",
    "# Perform matrix decomposition\n",
    "U, s, V = np.linalg.svd(matrix)\n",
    "print(\"U:\\n\", U)\n",
    "print(\"Singular values:\", s)\n",
    "print(\"V:\\n\", V)"
   ]
  },
  {
   "cell_type": "code",
   "execution_count": 1,
   "metadata": {},
   "outputs": [
    {
     "name": "stdout",
     "output_type": "stream",
     "text": [
      "Original Matrix:\n",
      "[[1.  0.2 0.5]\n",
      " [0.2 1.  0.8]\n",
      " [0.5 0.8 1. ]]\n",
      "\n",
      "Transposed Matrix:\n",
      "[[1.  0.2 0.5]\n",
      " [0.2 1.  0.8]\n",
      " [0.5 0.8 1. ]]\n"
     ]
    }
   ],
   "source": [
    "#Transform the matrix\n",
    "import numpy as np\n",
    "matrix = np.array([[1, 0.2, 0.5],[0.2, 1, 0.8],[0.5,0.8,1]])\n",
    "transposed_matrix = np.transpose(matrix)\n",
    "\n",
    "# Print the original and transposed matrix\n",
    "print(\"Original Matrix:\")\n",
    "print(matrix)\n",
    "print(\"\\nTransposed Matrix:\")\n",
    "print(transposed_matrix)\n"
   ]
  }
 ],
 "metadata": {
  "kernelspec": {
   "display_name": "Python 3",
   "language": "python",
   "name": "python3"
  },
  "language_info": {
   "codemirror_mode": {
    "name": "ipython",
    "version": 3
   },
   "file_extension": ".py",
   "mimetype": "text/x-python",
   "name": "python",
   "nbconvert_exporter": "python",
   "pygments_lexer": "ipython3",
   "version": "3.11.4"
  }
 },
 "nbformat": 4,
 "nbformat_minor": 2
}
